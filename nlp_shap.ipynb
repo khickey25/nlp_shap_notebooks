{
  "nbformat": 4,
  "nbformat_minor": 0,
  "metadata": {
    "colab": {
      "name": "nlp_shap.ipynb",
      "provenance": [],
      "collapsed_sections": [],
      "authorship_tag": "ABX9TyN9dUI03PBtKWMlzYU+ZFWy",
      "include_colab_link": true
    },
    "kernelspec": {
      "name": "python3",
      "display_name": "Python 3"
    },
    "accelerator": "GPU"
  },
  "cells": [
    {
      "cell_type": "markdown",
      "metadata": {
        "id": "view-in-github",
        "colab_type": "text"
      },
      "source": [
        "<a href=\"https://colab.research.google.com/github/khickey25/nlp_shap_notebooks/blob/master/nlp_shap.ipynb\" target=\"_parent\"><img src=\"https://colab.research.google.com/assets/colab-badge.svg\" alt=\"Open In Colab\"/></a>"
      ]
    },
    {
      "cell_type": "code",
      "metadata": {
        "id": "gkIjERCd_WO3",
        "colab_type": "code",
        "colab": {
          "base_uri": "https://localhost:8080/",
          "height": 122
        },
        "outputId": "1b97845c-f03f-4f97-ce58-7c03eee0e23b"
      },
      "source": [
        "from google.colab import drive\n",
        "drive.mount('/content/drive')"
      ],
      "execution_count": null,
      "outputs": [
        {
          "output_type": "stream",
          "text": [
            "Go to this URL in a browser: https://accounts.google.com/o/oauth2/auth?client_id=947318989803-6bn6qk8qdgf4n4g3pfee6491hc0brc4i.apps.googleusercontent.com&redirect_uri=urn%3aietf%3awg%3aoauth%3a2.0%3aoob&response_type=code&scope=email%20https%3a%2f%2fwww.googleapis.com%2fauth%2fdocs.test%20https%3a%2f%2fwww.googleapis.com%2fauth%2fdrive%20https%3a%2f%2fwww.googleapis.com%2fauth%2fdrive.photos.readonly%20https%3a%2f%2fwww.googleapis.com%2fauth%2fpeopleapi.readonly\n",
            "\n",
            "Enter your authorization code:\n",
            "··········\n",
            "Mounted at /content/drive\n"
          ],
          "name": "stdout"
        }
      ]
    },
    {
      "cell_type": "code",
      "metadata": {
        "id": "anNzg_LUB5rE",
        "colab_type": "code",
        "colab": {
          "base_uri": "https://localhost:8080/",
          "height": 819
        },
        "outputId": "149e4fe8-ce6b-4305-e735-e02793c13ffa"
      },
      "source": [
        "!pip install shap\n",
        "!pip install lime"
      ],
      "execution_count": null,
      "outputs": [
        {
          "output_type": "stream",
          "text": [
            "Collecting shap\n",
            "\u001b[?25l  Downloading https://files.pythonhosted.org/packages/a8/77/b504e43e21a2ba543a1ac4696718beb500cfa708af2fb57cb54ce299045c/shap-0.35.0.tar.gz (273kB)\n",
            "\r\u001b[K     |█▏                              | 10kB 26.5MB/s eta 0:00:01\r\u001b[K     |██▍                             | 20kB 6.1MB/s eta 0:00:01\r\u001b[K     |███▋                            | 30kB 7.5MB/s eta 0:00:01\r\u001b[K     |████▉                           | 40kB 8.4MB/s eta 0:00:01\r\u001b[K     |██████                          | 51kB 7.1MB/s eta 0:00:01\r\u001b[K     |███████▏                        | 61kB 8.1MB/s eta 0:00:01\r\u001b[K     |████████▍                       | 71kB 8.3MB/s eta 0:00:01\r\u001b[K     |█████████▋                      | 81kB 8.7MB/s eta 0:00:01\r\u001b[K     |██████████▉                     | 92kB 8.1MB/s eta 0:00:01\r\u001b[K     |████████████                    | 102kB 8.4MB/s eta 0:00:01\r\u001b[K     |█████████████▏                  | 112kB 8.4MB/s eta 0:00:01\r\u001b[K     |██████████████▍                 | 122kB 8.4MB/s eta 0:00:01\r\u001b[K     |███████████████▋                | 133kB 8.4MB/s eta 0:00:01\r\u001b[K     |████████████████▉               | 143kB 8.4MB/s eta 0:00:01\r\u001b[K     |██████████████████              | 153kB 8.4MB/s eta 0:00:01\r\u001b[K     |███████████████████▏            | 163kB 8.4MB/s eta 0:00:01\r\u001b[K     |████████████████████▍           | 174kB 8.4MB/s eta 0:00:01\r\u001b[K     |█████████████████████▋          | 184kB 8.4MB/s eta 0:00:01\r\u001b[K     |██████████████████████▉         | 194kB 8.4MB/s eta 0:00:01\r\u001b[K     |████████████████████████        | 204kB 8.4MB/s eta 0:00:01\r\u001b[K     |█████████████████████████▏      | 215kB 8.4MB/s eta 0:00:01\r\u001b[K     |██████████████████████████▍     | 225kB 8.4MB/s eta 0:00:01\r\u001b[K     |███████████████████████████▋    | 235kB 8.4MB/s eta 0:00:01\r\u001b[K     |████████████████████████████▉   | 245kB 8.4MB/s eta 0:00:01\r\u001b[K     |██████████████████████████████  | 256kB 8.4MB/s eta 0:00:01\r\u001b[K     |███████████████████████████████▏| 266kB 8.4MB/s eta 0:00:01\r\u001b[K     |████████████████████████████████| 276kB 8.4MB/s \n",
            "\u001b[?25hRequirement already satisfied: numpy in /usr/local/lib/python3.6/dist-packages (from shap) (1.18.5)\n",
            "Requirement already satisfied: scipy in /usr/local/lib/python3.6/dist-packages (from shap) (1.4.1)\n",
            "Requirement already satisfied: scikit-learn in /usr/local/lib/python3.6/dist-packages (from shap) (0.22.2.post1)\n",
            "Requirement already satisfied: pandas in /usr/local/lib/python3.6/dist-packages (from shap) (1.0.5)\n",
            "Requirement already satisfied: tqdm>4.25.0 in /usr/local/lib/python3.6/dist-packages (from shap) (4.41.1)\n",
            "Requirement already satisfied: joblib>=0.11 in /usr/local/lib/python3.6/dist-packages (from scikit-learn->shap) (0.16.0)\n",
            "Requirement already satisfied: pytz>=2017.2 in /usr/local/lib/python3.6/dist-packages (from pandas->shap) (2018.9)\n",
            "Requirement already satisfied: python-dateutil>=2.6.1 in /usr/local/lib/python3.6/dist-packages (from pandas->shap) (2.8.1)\n",
            "Requirement already satisfied: six>=1.5 in /usr/local/lib/python3.6/dist-packages (from python-dateutil>=2.6.1->pandas->shap) (1.15.0)\n",
            "Building wheels for collected packages: shap\n",
            "  Building wheel for shap (setup.py) ... \u001b[?25l\u001b[?25hdone\n",
            "  Created wheel for shap: filename=shap-0.35.0-cp36-cp36m-linux_x86_64.whl size=394125 sha256=375c7e3398ba6adbc3607a8f6ea01fd72cd54b65a1fe2838555887829df9270b\n",
            "  Stored in directory: /root/.cache/pip/wheels/e7/f7/0f/b57055080cf8894906b3bd3616d2fc2bfd0b12d5161bcb24ac\n",
            "Successfully built shap\n",
            "Installing collected packages: shap\n",
            "Successfully installed shap-0.35.0\n",
            "Collecting lime\n",
            "\u001b[?25l  Downloading https://files.pythonhosted.org/packages/f5/86/91a13127d83d793ecb50eb75e716f76e6eda809b6803c5a4ff462339789e/lime-0.2.0.1.tar.gz (275kB)\n",
            "\u001b[K     |████████████████████████████████| 276kB 7.6MB/s \n",
            "\u001b[?25hRequirement already satisfied: matplotlib in /usr/local/lib/python3.6/dist-packages (from lime) (3.2.2)\n",
            "Requirement already satisfied: numpy in /usr/local/lib/python3.6/dist-packages (from lime) (1.18.5)\n",
            "Requirement already satisfied: scipy in /usr/local/lib/python3.6/dist-packages (from lime) (1.4.1)\n",
            "Requirement already satisfied: tqdm in /usr/local/lib/python3.6/dist-packages (from lime) (4.41.1)\n",
            "Requirement already satisfied: scikit-learn>=0.18 in /usr/local/lib/python3.6/dist-packages (from lime) (0.22.2.post1)\n",
            "Requirement already satisfied: scikit-image>=0.12 in /usr/local/lib/python3.6/dist-packages (from lime) (0.16.2)\n",
            "Requirement already satisfied: python-dateutil>=2.1 in /usr/local/lib/python3.6/dist-packages (from matplotlib->lime) (2.8.1)\n",
            "Requirement already satisfied: pyparsing!=2.0.4,!=2.1.2,!=2.1.6,>=2.0.1 in /usr/local/lib/python3.6/dist-packages (from matplotlib->lime) (2.4.7)\n",
            "Requirement already satisfied: cycler>=0.10 in /usr/local/lib/python3.6/dist-packages (from matplotlib->lime) (0.10.0)\n",
            "Requirement already satisfied: kiwisolver>=1.0.1 in /usr/local/lib/python3.6/dist-packages (from matplotlib->lime) (1.2.0)\n",
            "Requirement already satisfied: joblib>=0.11 in /usr/local/lib/python3.6/dist-packages (from scikit-learn>=0.18->lime) (0.16.0)\n",
            "Requirement already satisfied: imageio>=2.3.0 in /usr/local/lib/python3.6/dist-packages (from scikit-image>=0.12->lime) (2.4.1)\n",
            "Requirement already satisfied: networkx>=2.0 in /usr/local/lib/python3.6/dist-packages (from scikit-image>=0.12->lime) (2.4)\n",
            "Requirement already satisfied: PyWavelets>=0.4.0 in /usr/local/lib/python3.6/dist-packages (from scikit-image>=0.12->lime) (1.1.1)\n",
            "Requirement already satisfied: pillow>=4.3.0 in /usr/local/lib/python3.6/dist-packages (from scikit-image>=0.12->lime) (7.0.0)\n",
            "Requirement already satisfied: six>=1.5 in /usr/local/lib/python3.6/dist-packages (from python-dateutil>=2.1->matplotlib->lime) (1.15.0)\n",
            "Requirement already satisfied: decorator>=4.3.0 in /usr/local/lib/python3.6/dist-packages (from networkx>=2.0->scikit-image>=0.12->lime) (4.4.2)\n",
            "Building wheels for collected packages: lime\n",
            "  Building wheel for lime (setup.py) ... \u001b[?25l\u001b[?25hdone\n",
            "  Created wheel for lime: filename=lime-0.2.0.1-cp36-none-any.whl size=283845 sha256=369054081a217f8f481df58a0b7acc8a04c84a5c600542b1f6bcb5068f7d0f6d\n",
            "  Stored in directory: /root/.cache/pip/wheels/4c/4f/a5/0bc765457bd41378bf3ce8d17d7495369d6e7ca3b712c60c89\n",
            "Successfully built lime\n",
            "Installing collected packages: lime\n",
            "Successfully installed lime-0.2.0.1\n"
          ],
          "name": "stdout"
        }
      ]
    },
    {
      "cell_type": "code",
      "metadata": {
        "id": "NBU6l2zHBUda",
        "colab_type": "code",
        "colab": {
          "base_uri": "https://localhost:8080/",
          "height": 119
        },
        "outputId": "14fc050f-3713-436c-cf66-02c074311ca9"
      },
      "source": [
        "\n",
        "import pandas as pd\n",
        "%tensorflow_version 1.13.1\n",
        "import tensorflow as tf\n",
        "from tensorflow.keras.preprocessing import text\n",
        "import keras.backend.tensorflow_backend as K\n",
        "K.set_session\n",
        "import matplotlib.pyplot as plt\n",
        "import shap\n",
        "import numpy\n",
        "import sklearn.metrics as skm\n",
        "from tensorflow.keras.wrappers.scikit_learn import KerasClassifier\n",
        "\n"
      ],
      "execution_count": null,
      "outputs": [
        {
          "output_type": "stream",
          "text": [
            "`%tensorflow_version` only switches the major version: 1.x or 2.x.\n",
            "You set: `1.13.1`. This will be interpreted as: `1.x`.\n",
            "\n",
            "\n",
            "TensorFlow 1.x selected.\n"
          ],
          "name": "stdout"
        },
        {
          "output_type": "stream",
          "text": [
            "Using TensorFlow backend.\n"
          ],
          "name": "stderr"
        }
      ]
    },
    {
      "cell_type": "code",
      "metadata": {
        "id": "N1yURZxm_2lR",
        "colab_type": "code",
        "colab": {}
      },
      "source": [
        "text_train_path = \"/content/drive/My Drive/test_data/text_train.csv\"\n",
        "text_test_path = \"/content/drive/My Drive/test_data/text_test.csv\"\n",
        "y_train_path = \"/content/drive/My Drive/test_data/y_train.csv\"\n",
        "y_test_path = \"/content/drive/My Drive/test_data/y_test.csv\"\n",
        "\n",
        "text_train = pd.read_csv(text_train_path, names=['text'])\n",
        "text_test = pd.read_csv(text_test_path, names=['text'])\n",
        "y_train = pd.read_csv(y_train_path)\n",
        "y_test = pd.read_csv(y_test_path)\n",
        "\n",
        "baseline_model_shap_vals = numpy.load(\"/content/drive/My Drive/test_data/shap_vals.npy\")"
      ],
      "execution_count": null,
      "outputs": []
    },
    {
      "cell_type": "code",
      "metadata": {
        "id": "Soldr6imTcXA",
        "colab_type": "code",
        "colab": {
          "base_uri": "https://localhost:8080/",
          "height": 282
        },
        "outputId": "5119fa5e-aca8-4c63-e0c2-e21b5a58eeca"
      },
      "source": [
        "pd.concat([text_train, y_train], axis=1).iloc[:, 1:].sum(axis = 0, skipna = True).plot(kind='barh')"
      ],
      "execution_count": null,
      "outputs": [
        {
          "output_type": "execute_result",
          "data": {
            "text/plain": [
              "<matplotlib.axes._subplots.AxesSubplot at 0x7f865a2b5c50>"
            ]
          },
          "metadata": {
            "tags": []
          },
          "execution_count": 5
        },
        {
          "output_type": "display_data",
          "data": {
            "image/png": "[encoded data removed]",
            "text/plain": [
              "<Figure size 432x288 with 1 Axes>"
            ]
          },
          "metadata": {
            "tags": [],
            "needs_background": "light"
          }
        }
      ]
    },
    {
      "cell_type": "code",
      "metadata": {
        "id": "QWevzaOcFNrD",
        "colab_type": "code",
        "colab": {}
      },
      "source": [
        "\n",
        "class TextPreprocessor(object):\n",
        "    def __init__(self, vocab_size):\n",
        "        self._vocab_size = vocab_size\n",
        "        self._tokenizer = None\n",
        "    def create_tokenizer(self, text_list):\n",
        "        tokenizer = text.Tokenizer(num_words = self._vocab_size)\n",
        "        tokenizer.fit_on_texts(text_list)\n",
        "        self._tokenizer = tokenizer\n",
        "    def transform_text(self, text_list):\n",
        "        text_matrix = self._tokenizer.texts_to_matrix(text_list)\n",
        "        return text_matrix\n",
        "\n",
        "def read_data():\n",
        "  text_train_path = \"/content/drive/My Drive/test_data/text_train.csv\"\n",
        "  text_test_path = \"/content/drive/My Drive/test_data/text_test.csv\"\n",
        "  y_train_path = \"/content/drive/My Drive/test_data/y_train.csv\"\n",
        "  y_test_path = \"/content/drive/My Drive/test_data/y_test.csv\"\n",
        "\n",
        "  text_train = pd.read_csv(text_train_path, names=['text'])\n",
        "  text_test = pd.read_csv(text_test_path, names=['text'])\n",
        "  y_train = pd.read_csv(y_train_path)\n",
        "  y_test = pd.read_csv(y_test_path)\n",
        "\n",
        "  return text_train, text_test, y_train, y_test\n",
        "\n",
        "\n",
        "\n",
        "\n",
        "def preprocess_text(vocab_size, text_train, text_test, processor):\n",
        "  #train_post = merged['Body'].values[: train_size]\n",
        "  #test_post = merged['Body'].values[train_size: ]\n",
        "  processor.create_tokenizer(text_train.text)\n",
        "  X_train = processor.transform_text(text_train.iloc[:,0])\n",
        "  X_test = processor.transform_text(text_test.iloc[:,0])\n",
        "  return X_train, X_test\n",
        "  \n",
        "def word_lookup_creation(processor):\n",
        "  words = processor._tokenizer.word_index\n",
        "  word_lookup = list()\n",
        "  for i in words.keys():\n",
        "      word_lookup.append(i)\n",
        "  word_lookup = [''] + word_lookup\n",
        "  return words, word_lookup\n",
        "  \n",
        "def create_model(input_shape, num_tags):\n",
        "  tf.random.set_random_seed(2020)\n",
        "  model = tf.keras.models.Sequential()\n",
        "  model.add(tf.keras.layers.Dense(50, input_shape = (input_shape,), activation='relu'))\n",
        "  model.add(tf.keras.layers.Dense(25, activation='relu'))\n",
        "  model.add(tf.keras.layers.Dense(num_tags, activation='sigmoid'))\n",
        "  model.compile(loss = 'binary_crossentropy', optimizer='adam', metrics = ['accuracy'])\n",
        "  return model\n",
        "\n",
        "def train_and_score(model, train_data_X, train_data_y, test_data_X, test_data_y, \n",
        "                    n_epochs, batch_size):\n",
        "  model.fit(train_data_X, train_data_y, epochs=n_epochs, batch_size=batch_size, \n",
        "            validation_split=0.1)\n",
        "  print('Eval loss/accuracy:{}'.format(model.evaluate(test_data_X, test_data_y,\n",
        "                                                      batch_size = batch_size)))\n",
        "\n",
        "  return model\n",
        "\n",
        "\n",
        "\n",
        "\n",
        "def shap_vals_calculation(n_examples : int, n_explanations : int, \n",
        "                          x_train : numpy.ndarray, x_test : numpy.ndarray,\n",
        "                          model : tf.python.keras.engine.sequential.Sequential):\n",
        "  #check if file already exists; if not, create it\n",
        "  print(\"[INFO] Calculating Shap Values...\\n\")\n",
        "  attrib_data = x_train[:n_examples]\n",
        "  explainer = shap.DeepExplainer(model, attrib_data)\n",
        "  shap_vals = explainer.shap_values(x_test[:n_explanations])\n",
        "  return shap_vals, explainer\n",
        "\n",
        "def display_shap_figures(shap_values, x_test, word_lookup_reference):\n",
        "  shap.summary_plot(shap_values, feature_names=word_lookup_reference, \n",
        "                    class_names=y_train.columns)\n",
        "\n",
        "  for i in range(len(shap_values)):\n",
        "    print(y_test.columns[i])\n",
        "    shap.summary_plot(shap_values[i], x_test[:shap_values[0].shape[0]],\n",
        "                      feature_names=word_lookup_reference, \n",
        "                      class_names=y_train.columns)\n",
        "\n",
        "\n",
        "\n",
        "\n",
        "\n",
        "\n",
        "  "
      ],
      "execution_count": null,
      "outputs": []
    },
    {
      "cell_type": "markdown",
      "metadata": {
        "id": "PNzNNzCA5fnQ",
        "colab_type": "text"
      },
      "source": [
        "## Baseline Model Shap Figures\n",
        "\n",
        "Due to computation complexity, a baseline model was trained and subsequent shap values were calculated for all features. This allows for a fuller explanation of words for comparison puroses."
      ]
    },
    {
      "cell_type": "code",
      "metadata": {
        "id": "DQH9eKv050SO",
        "colab_type": "code",
        "colab": {}
      },
      "source": [
        "#code to recreate the train and test data that was used\n",
        "#to calculate baseline model shap values\n",
        "vocab_size=2000\n",
        "text_train, text_test, y_train, y_test = read_data()\n",
        "num_tags = y_test.shape[1]\n",
        "\n",
        "print(\"[INFO] Processing Text...\\n\")\n",
        "processor = TextPreprocessor(vocab_size=vocab_size)\n",
        "X_train, X_test = preprocess_text(vocab_size=vocab_size, text_train=text_train,\n",
        "                                  text_test=text_test, processor=processor)\n",
        "word_dict, word_lookup = word_lookup_creation(processor=processor)\n",
        "\n",
        "\n",
        "\n",
        "\n",
        "print(\"[INFO] Displaying Figures...\")\n",
        "display_shap_figures(shap_values=[x for x in baseline_model_shap_vals], x_test=X_test,\n",
        "                      word_lookup_reference=word_lookup)\n"
      ],
      "execution_count": null,
      "outputs": []
    },
    {
      "cell_type": "code",
      "metadata": {
        "id": "Y9rm8stB3iyv",
        "colab_type": "code",
        "colab": {}
      },
      "source": [
        "#main function to train model on specified datasets. \n",
        "#make list of features to remove from training sets and retrain\n",
        "#model for performance comparison\n",
        "\n",
        "def main(vocab_size=2000, drop_features=None):\n",
        "    text_train, text_test, y_train, y_test = read_data()\n",
        "    num_tags = y_test.shape[1]\n",
        "    \n",
        "    print(\"[INFO] Processing Text...\\n\")\n",
        "    processor = TextPreprocessor(vocab_size=vocab_size)\n",
        "    X_train, X_test = preprocess_text(vocab_size=vocab_size, text_train=text_train,\n",
        "                                      text_test=text_test, processor=processor)\n",
        "    word_dict, word_lookup = word_lookup_creation(processor=processor)\n",
        "    \n",
        "    if drop_features:\n",
        "      X_train = numpy.delete(X_train, list(word_dict[k] for k in drop_features), 1)\n",
        "      X_test = numpy.delete(X_test, list(word_dict[k] for k in drop_features), 1)\n",
        "      word_lookup = [w for w in word_lookup if w not in drop_features]\n",
        "      vocab_size -= len([x for x in drop_features])\n",
        "    \n",
        "    print(\"[INFO] Creating and Training Model...\\n\")\n",
        "    model = create_model(input_shape=vocab_size, num_tags=num_tags)\n",
        "    \n",
        "    trained_model = train_and_score(model, train_data_X=X_train, train_data_y=y_train, \n",
        "                                    test_data_X=X_test, test_data_y=y_test,\n",
        "                                    n_epochs=10, batch_size=128)\n",
        "    y_pred = trained_model.predict(X_test)\n",
        "    \n",
        "    print(\"[INFO] Displaying Confusion Matrix ...\\n\")\n",
        "    cm = skm.multilabel_confusion_matrix(y_test.values, y_pred.round(0))\n",
        "    cm_df = pd.DataFrame(cm.reshape(cm.shape[0], -1), columns=['TN', 'FP', 'FN', 'TP'], \n",
        "                         index=y_test.columns)\n",
        "    print(cm_df, \"\\n\")\n",
        "    print(\"[INFO] Displaying Classification Report...\\n\")\n",
        "    print(skm.classification_report(y_test.values, y_pred.round(0), target_names=cm_df.index))\n",
        "\n",
        "    if drop_features:      \n",
        "      shap_vals = shap_vals_calculation(n_examples=500, n_explanations=50, \n",
        "                                        x_train=X_train, x_test=X_test, \n",
        "                                        model=trained_model)\n",
        "      \n",
        "      print(\"[INFO] Displaying Figures...\")\n",
        "      display_shap_figures(shap_values=shap_vals, x_test=X_test,\n",
        "                          word_lookup_reference=word_lookup)\n",
        "    \n",
        "  \n"
      ],
      "execution_count": null,
      "outputs": []
    },
    {
      "cell_type": "code",
      "metadata": {
        "id": "nJyKjPOf8TQb",
        "colab_type": "code",
        "cellView": "form",
        "colab": {
          "base_uri": "https://localhost:8080/",
          "height": 1000
        },
        "outputId": "b5c461b1-7c6f-4d6a-fff7-20eeb3e54064"
      },
      "source": [
        "#@title\n",
        "#run for model performance metrics \n",
        "#shap values figures are above\n",
        "main(vocab_size=2000)"
      ],
      "execution_count": null,
      "outputs": [
        {
          "output_type": "stream",
          "text": [
            "[INFO] Processing Text...\n",
            "\n",
            "[INFO] Creating and Training Model...\n",
            "\n",
            "Train on 35103 samples, validate on 3901 samples\n",
            "Epoch 1/10\n",
            "35103/35103 [==============================] - 1s 33us/sample - loss: 0.2514 - acc: 0.8941 - val_loss: 0.1149 - val_acc: 0.9569\n",
            "Epoch 2/10\n",
            "35103/35103 [==============================] - 1s 29us/sample - loss: 0.0898 - acc: 0.9657 - val_loss: 0.0718 - val_acc: 0.9730\n",
            "Epoch 3/10\n",
            "35103/35103 [==============================] - 1s 30us/sample - loss: 0.0642 - acc: 0.9741 - val_loss: 0.0599 - val_acc: 0.9761\n",
            "Epoch 4/10\n",
            "35103/35103 [==============================] - 1s 30us/sample - loss: 0.0549 - acc: 0.9771 - val_loss: 0.0555 - val_acc: 0.9764\n",
            "Epoch 5/10\n",
            "35103/35103 [==============================] - 1s 28us/sample - loss: 0.0499 - acc: 0.9788 - val_loss: 0.0524 - val_acc: 0.9770\n",
            "Epoch 6/10\n",
            "35103/35103 [==============================] - 1s 28us/sample - loss: 0.0465 - acc: 0.9801 - val_loss: 0.0510 - val_acc: 0.9774\n",
            "Epoch 7/10\n",
            "35103/35103 [==============================] - 1s 29us/sample - loss: 0.0441 - acc: 0.9809 - val_loss: 0.0493 - val_acc: 0.9779\n",
            "Epoch 8/10\n",
            "35103/35103 [==============================] - 1s 29us/sample - loss: 0.0423 - acc: 0.9815 - val_loss: 0.0501 - val_acc: 0.9774\n",
            "Epoch 9/10\n",
            "35103/35103 [==============================] - 1s 29us/sample - loss: 0.0408 - acc: 0.9821 - val_loss: 0.0488 - val_acc: 0.9780\n",
            "Epoch 10/10\n",
            "35103/35103 [==============================] - 1s 29us/sample - loss: 0.0398 - acc: 0.9825 - val_loss: 0.0484 - val_acc: 0.9784\n",
            "9751/9751 [==============================] - 0s 19us/sample - loss: 0.0491 - acc: 0.9781\n",
            "Eval loss/accuracy:[0.04911773091535693, 0.9780939]\n",
            "[INFO] Displaying Confusion Matrix ...\n",
            "\n",
            "                               TN    FP    FN    TP\n",
            "Action and Adventure         7407    18    25  2301\n",
            "Animation                    9228     0     5   518\n",
            "Anime and Manga              9746     0     0     5\n",
            "Art House and International  8997    15    34   705\n",
            "Classics                     9421     8    27   295\n",
            "Comedy                       5829    32    40  3850\n",
            "Cult Movies                  9739     0     5     7\n",
            "Documentary                  9545     1     7   198\n",
            "Drama                        3777    33    30  5911\n",
            "Faith and Spirituality       9718     0    10    23\n",
            "Gay and Lesbian              9747     0     1     3\n",
            "Horror                       8954     2     9   786\n",
            "Kids and Family              8904     2    11   834\n",
            "Musical and Performing Arts  9393     3    15   340\n",
            "Mystery and Suspense         7671    12    41  2027\n",
            "Romance                      8363     8    33  1347\n",
            "Science Fiction and Fantasy  8378     6    16  1351\n",
            "Special Interest             9606     2    10   133\n",
            "Sports and Fitness           9687     0     2    62\n",
            "Television                   9717     0     3    31\n",
            "Western                      9504     1     5   241\n",
            "fresh                        2855   977  1242  4677\n",
            "rotten                       4673  1246   976  2856 \n",
            "\n",
            "[INFO] Displaying Classification Report...\n",
            "\n",
            "                             precision    recall  f1-score   support\n",
            "\n",
            "       Action and Adventure       0.99      0.99      0.99      2326\n",
            "                  Animation       1.00      0.99      1.00       523\n",
            "            Anime and Manga       1.00      1.00      1.00         5\n",
            "Art House and International       0.98      0.95      0.97       739\n",
            "                   Classics       0.97      0.92      0.94       322\n",
            "                     Comedy       0.99      0.99      0.99      3890\n",
            "                Cult Movies       1.00      0.58      0.74        12\n",
            "                Documentary       0.99      0.97      0.98       205\n",
            "                      Drama       0.99      0.99      0.99      5941\n",
            "     Faith and Spirituality       1.00      0.70      0.82        33\n",
            "            Gay and Lesbian       1.00      0.75      0.86         4\n",
            "                     Horror       1.00      0.99      0.99       795\n",
            "            Kids and Family       1.00      0.99      0.99       845\n",
            "Musical and Performing Arts       0.99      0.96      0.97       355\n",
            "       Mystery and Suspense       0.99      0.98      0.99      2068\n",
            "                    Romance       0.99      0.98      0.99      1380\n",
            "Science Fiction and Fantasy       1.00      0.99      0.99      1367\n",
            "           Special Interest       0.99      0.93      0.96       143\n",
            "         Sports and Fitness       1.00      0.97      0.98        64\n",
            "                 Television       1.00      0.91      0.95        34\n",
            "                    Western       1.00      0.98      0.99       246\n",
            "                      fresh       0.83      0.79      0.81      5919\n",
            "                     rotten       0.70      0.75      0.72      3832\n",
            "\n",
            "                  micro avg       0.92      0.92      0.92     31048\n",
            "                  macro avg       0.97      0.91      0.94     31048\n",
            "               weighted avg       0.92      0.92      0.92     31048\n",
            "                samples avg       0.92      0.91      0.92     31048\n",
            "\n"
          ],
          "name": "stdout"
        },
        {
          "output_type": "stream",
          "text": [
            "Precision and F-score are ill-defined and being set to 0.0 in samples with no predicted labels. Use `zero_division` parameter to control this behavior.\n"
          ],
          "name": "stderr"
        }
      ]
    },
    {
      "cell_type": "markdown",
      "metadata": {
        "id": "-CqQpLaRykwI",
        "colab_type": "text"
      },
      "source": [
        "## Test 1:\n",
        "### Remove top 5 features from global importances:\n",
        "- comedi\n",
        "- date\n",
        "- love\n",
        "- norp\n",
        "- thriller\n",
        "\n",
        " \n",
        "### Results: No discernable drop in performance in terms of classifying genres. However, some change in performance of predicting rotten or fresh.\n",
        "\n",
        "Percent Change:\n",
        "- Fresh: \n",
        "    - Precision: 0.81=>0.81\n",
        "    - Recall: 0.84=>0.82\n",
        "    - F1 Score: 0.82=>0.82\n",
        "- Rotten:\n",
        "    - Precision: 0.74=>0.72\n",
        "    - Recall: 0.68=>0.71\n",
        "    - F1 Score: 0.71=>0.71\n",
        "\n",
        "Seems that the model is predicting more rotten verdicts or predicting less fresh verdicts in general, which is might be a change in performance or might just be due to randomness."
      ]
    },
    {
      "cell_type": "code",
      "metadata": {
        "id": "u9ry8Ftes8id",
        "colab_type": "code",
        "cellView": "form",
        "colab": {}
      },
      "source": [
        "#@title\n",
        "#TEST 1: \n",
        "main(drop_features=['comedi', 'date', 'love', 'norp', 'thriller'])"
      ],
      "execution_count": null,
      "outputs": []
    },
    {
      "cell_type": "markdown",
      "metadata": {
        "id": "PRNT6GKuWe46",
        "colab_type": "text"
      },
      "source": [
        "## Test 2: Drop 20 most important words\n",
        "- comedi\n",
        "- date\n",
        "- love\n",
        "- norp\n",
        "- thriller\n",
        "- gpe\n",
        "- life\n",
        "- adventur\n",
        "- anim\n",
        "- seri\n",
        "- drama\n",
        "- man\n",
        "- make\n",
        "- fun\n",
        "- beauti\n",
        "- director\n",
        "- enjoy\n",
        "- young\n",
        "- tri\n",
        "- come\n",
        "\n",
        "### Results: Again, no discernable change in performance. Only slight (~.01-.03) change in precision/recall/f1 scores for rotten/fresh prediction scores. The new features (21st most important and lower) shap values appearing in shap global summary plot are becoming very low, almost not really informative."
      ]
    },
    {
      "cell_type": "code",
      "metadata": {
        "id": "ZnTssui5FfLH",
        "colab_type": "code",
        "cellView": "form",
        "colab": {}
      },
      "source": [
        "#@title\n",
        "main(drop_features=['comedi', 'date', 'love', 'norp', 'thriller',\n",
        "                    'gpe', 'life', 'adventur', 'anim', 'seri',\n",
        "                    'drama', 'man', 'make', 'fun', 'beauti', \n",
        "                    'director', 'enjoy', 'young', 'tri', 'come'])"
      ],
      "execution_count": null,
      "outputs": []
    },
    {
      "cell_type": "markdown",
      "metadata": {
        "id": "-C4UfT_3Z5jb",
        "colab_type": "text"
      },
      "source": [
        "## Test 3: Remove important words for particular genre of film.\n",
        "\n",
        "Remove 20 most important shap-derived features in \"Comedy\" genre and see if model has change in performance in classifiying the genre. \n",
        "\n",
        "Results: No change in performance; metrics are virtually identical."
      ]
    },
    {
      "cell_type": "code",
      "metadata": {
        "id": "J6u42VZuX89f",
        "colab_type": "code",
        "cellView": "form",
        "colab": {}
      },
      "source": [
        "#@title\n",
        "#Test 3: Comdedy Genre\n",
        "main(drop_features=['comedi', 'drama', 'thriller', 'director', 'set',\n",
        "                    'comic', 'live', 'cardin', 'adapt', 'stori', \n",
        "                    'attempt', 'man', 'wife', 'young', 'night',\n",
        "                    'seri', 'colleg', 'date', 'mother', 'back'])"
      ],
      "execution_count": null,
      "outputs": []
    },
    {
      "cell_type": "markdown",
      "metadata": {
        "id": "12jzQ1s1Gt8j",
        "colab_type": "text"
      },
      "source": [
        "## Test 4: Removing top 20 words/features for Fresh/Rotten classification\n",
        "\n",
        "Remove the top 20 words that influence the prediction of fresh.\n",
        "\n",
        "Results: Again, not much change in performance; if anything, a slight disimprovement of \"rotten\" prediction performance. But again, this may be in part due to randomness. \n",
        "\n",
        "__Baseline__:\n",
        "- fresh       \n",
        "  - Precision 0.81\n",
        "  - Recall 0.84\n",
        "  - F1 0.82      \n",
        "- rotten\n",
        "  - Precision 0.74\n",
        "  - Recall 0.68\n",
        "  - F1 0.71\n",
        "\n",
        "__Removed__:\n",
        "- fresh       \n",
        "  - Precision 0.79\n",
        "  - Recall 0.86\n",
        "  - F1 0.82      \n",
        "- rotten\n",
        "  - Precision 0.74\n",
        "  - Recall 0.65\n",
        "  - F1 0.69\n"
      ]
    },
    {
      "cell_type": "code",
      "metadata": {
        "id": "pRnaU9-2FcTX",
        "colab_type": "code",
        "cellView": "form",
        "colab": {}
      },
      "source": [
        "#@title\n",
        "main(drop_features=['enjoy', 'date', 'fun', 'love', 'tri',\n",
        "                    'perfect', 'best', 'make', 'start', 'unfortun',\n",
        "                    'classic', 'entertain', 'power', 'seem', 'life',\n",
        "                    'funni', 'film', 'movi', 'gpe', 'school'])"
      ],
      "execution_count": null,
      "outputs": []
    },
    {
      "cell_type": "markdown",
      "metadata": {
        "id": "8THZPxLhCdul",
        "colab_type": "text"
      },
      "source": [
        "# 2nd Strategy\n",
        "\n",
        "### Instead of removing features, perturb the values of 1 with values of 0. \n",
        "\n",
        "For instances in the indicated word dataframe column, if said word appears in the review vector, its value of 1 will instead be substituted with 0 in the vector. \n",
        "\n",
        "Ex: if the first sentence in our corpus is: \"I really like this comedy\", then the value of _df.loc[0, \"comedy\"]_ is equal to 1. This strategy will substitute that value to 0 and let classifier be trained with said pertubation(s). "
      ]
    },
    {
      "cell_type": "code",
      "metadata": {
        "id": "G3Bi28KJTEFW",
        "colab_type": "code",
        "colab": {}
      },
      "source": [
        "#main function to train model on specified datasets. \n",
        "#make list of features to remove from training sets and retrain\n",
        "#model for performance comparison\n",
        "\n",
        "def main2(vocab_size=2000, drop_features=None):\n",
        "    text_train, text_test, y_train, y_test = read_data()\n",
        "    num_tags = y_test.shape[1]\n",
        "    \n",
        "    print(\"[INFO] Processing Text...\\n\")\n",
        "    processor = TextPreprocessor(vocab_size=vocab_size)\n",
        "    X_train, X_test = preprocess_text(vocab_size=vocab_size, text_train=text_train,\n",
        "                                      text_test=text_test, processor=processor)\n",
        "    word_dict, word_lookup = word_lookup_creation(processor=processor)\n",
        "    \n",
        "    if drop_features:\n",
        "      drop_word_indicies = [word_dict[w] for w in drop_features]\n",
        "      X_train[:,drop_word_indicies] = numpy.where(X_train[:,drop_word_indicies] == 1, 0, 0)\n",
        "    \n",
        "    print(\"[INFO] Creating and Training Model...\\n\")\n",
        "    model = create_model(input_shape=vocab_size, num_tags=num_tags)\n",
        "    \n",
        "    trained_model = train_and_score(model, train_data_X=X_train, train_data_y=y_train, \n",
        "                                    test_data_X=X_test, test_data_y=y_test,\n",
        "                                    n_epochs=10, batch_size=128)\n",
        "    y_pred = trained_model.predict(X_test)\n",
        "    \n",
        "    print(\"[INFO] Displaying Confusion Matrix ...\\n\")\n",
        "    cm = skm.multilabel_confusion_matrix(y_test.values, y_pred.round(0))\n",
        "    cm_df = pd.DataFrame(cm.reshape(cm.shape[0], -1), columns=['TN', 'FP', 'FN', 'TP'], \n",
        "                         index=y_test.columns)\n",
        "    print(cm_df, \"\\n\")\n",
        "    print(\"[INFO] Displaying Classification Report...\\n\")\n",
        "    print(skm.classification_report(y_test.values, y_pred.round(0), target_names=cm_df.index))\n",
        "\n",
        "    if drop_features:      \n",
        "      shap_vals = shap_vals_calculation(n_examples=500, n_explanations=50, \n",
        "                                        x_train=X_train, x_test=X_test, \n",
        "                                        model=trained_model)\n",
        "      \n",
        "      print(\"[INFO] Displaying Figures...\")\n",
        "      display_shap_figures(shap_values=shap_vals, x_test=X_test,\n",
        "                          word_lookup_reference=word_lookup)\n",
        "    \n",
        "  \n"
      ],
      "execution_count": null,
      "outputs": []
    },
    {
      "cell_type": "markdown",
      "metadata": {
        "id": "4fOL0mOkAaI3",
        "colab_type": "text"
      },
      "source": [
        "## Test 1a: Perturb values of top 5 most important words/features\n",
        "\n",
        "Perturb the vector values to 0 for instances where the top 5 ranked words appears in a particular review.\n",
        "\n",
        "__Results__: No real change in performance. "
      ]
    },
    {
      "cell_type": "code",
      "metadata": {
        "id": "TKj33rHn1qUC",
        "colab_type": "code",
        "cellView": "form",
        "colab": {}
      },
      "source": [
        "#@title\n",
        "#Test 1a: remove 5 most important features\n",
        "main2(drop_features=['comedi', 'date', 'norp', 'thriller', 'love'])"
      ],
      "execution_count": null,
      "outputs": []
    },
    {
      "cell_type": "markdown",
      "metadata": {
        "id": "0dP5ZGE0BsWa",
        "colab_type": "text"
      },
      "source": [
        "## Test 2a: Perturb top 20 most important features\n",
        "\n",
        "__Results__: No real change in performance. Appears that classifier predicts \"rotte\" a little more frequently compared to baseline, but other performance metrics are indestinguishable. "
      ]
    },
    {
      "cell_type": "code",
      "metadata": {
        "id": "366XlWW618N4",
        "colab_type": "code",
        "cellView": "form",
        "colab": {}
      },
      "source": [
        "#@title\n",
        "#test 2a\n",
        "main2(drop_features=['comedi', 'date', 'love', 'norp', 'thriller',\n",
        "                    'gpe', 'life', 'adventur', 'anim', 'seri',\n",
        "                    'drama', 'man', 'make', 'fun', 'beauti', \n",
        "                    'director', 'enjoy', 'young', 'tri', 'come'])"
      ],
      "execution_count": null,
      "outputs": []
    },
    {
      "cell_type": "markdown",
      "metadata": {
        "id": "4Yi_U0pFCxgT",
        "colab_type": "text"
      },
      "source": [
        "## Test 3a: Perturb top 20 words from one particular genre (Comedy)\n",
        "\n",
        "__Results__: Comedy genre precision/recall/f1 scores are the same as baseline performer. Note that the new most important words have changed, but their respective shap values are similar to most important ones from baseline. "
      ]
    },
    {
      "cell_type": "code",
      "metadata": {
        "id": "XkKITdp64wwl",
        "colab_type": "code",
        "cellView": "form",
        "colab": {}
      },
      "source": [
        "#@title\n",
        "#Test 3a: Comdedy Genre\n",
        "main2(drop_features=['comedi', 'drama', 'thriller', 'director', 'set',\n",
        "                    'comic', 'live', 'cardin', 'adapt', 'stori', \n",
        "                    'attempt', 'man', 'wife', 'young', 'night',\n",
        "                    'seri', 'colleg', 'date', 'mother', 'back'])"
      ],
      "execution_count": null,
      "outputs": []
    },
    {
      "cell_type": "markdown",
      "metadata": {
        "id": "1E1pRcKZECok",
        "colab_type": "text"
      },
      "source": [
        "## Test 4s: Perturb most important features for rotten/fresh category\n",
        "\n",
        "__Results__: Same as before; results ultimately are the same as baseline performance. "
      ]
    },
    {
      "cell_type": "code",
      "metadata": {
        "id": "MHyz7FQ85RAK",
        "colab_type": "code",
        "cellView": "both",
        "colab": {}
      },
      "source": [
        "#@title\n",
        "#test 4a\n",
        "main(drop_features=['enjoy', 'date', 'fun', 'love', 'tri',\n",
        "                    'perfect', 'best', 'make', 'start', 'unfortun',\n",
        "                    'classic', 'entertain', 'power', 'seem', 'life',\n",
        "                    'funni', 'film', 'movi', 'gpe', 'school'])"
      ],
      "execution_count": null,
      "outputs": []
    }
  ]
}